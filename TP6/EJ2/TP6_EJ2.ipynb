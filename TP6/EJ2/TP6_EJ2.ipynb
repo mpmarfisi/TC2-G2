{
 "cells": [
  {
   "cell_type": "markdown",
   "id": "b61a6b95-2951-4c7e-816a-b31b076d1239",
   "metadata": {},
   "source": [
    "<img src=\"logo_UTN.svg\" align=\"right\" width=\"150\" /> \n",
    "\n",
    "## Teoría de Circuitos II\n",
    "\n",
    "### Ejercicio 2 TP6\n",
    "\n",
    "#### Por Grupo 2\n"
   ]
  },
  {
   "cell_type": "markdown",
   "id": "652e7dac-471d-45d5-82cd-1b123d33ac8e",
   "metadata": {
    "tags": []
   },
   "source": [
    "## Ejercicio 2"
   ]
  },
  {
   "cell_type": "markdown",
   "id": "898db190-f376-42a1-8085-c412a0a3a335",
   "metadata": {
    "tags": []
   },
   "source": [
    "## Consigna"
   ]
  },
  {
   "cell_type": "markdown",
   "id": "6eb65922-8c2e-4f43-b28a-c27c61f89f0c",
   "metadata": {},
   "source": [
    "![Consigna](Consigna.png \"Consigna\")"
   ]
  },
  {
   "cell_type": "markdown",
   "id": "90219906-4385-41d8-a6a3-e5597c82971c",
   "metadata": {
    "tags": []
   },
   "source": [
    "## Resolución"
   ]
  },
  {
   "cell_type": "markdown",
   "id": "f57caf40-208e-43ce-ae82-05a0784292be",
   "metadata": {},
   "source": [
    "![1](Desarrollo/1.jpeg \"1\")"
   ]
  },
  {
   "cell_type": "markdown",
   "id": "46117646-ba14-41b7-9f55-55f8d73d74b6",
   "metadata": {},
   "source": [
    "![2](Desarrollo/2.jpeg \"2\")"
   ]
  },
  {
   "cell_type": "markdown",
   "id": "9345bdff-99f5-4c46-8b97-97e8c30f0e0a",
   "metadata": {
    "tags": []
   },
   "source": [
    "## Simulacion"
   ]
  },
  {
   "cell_type": "code",
   "execution_count": 10,
   "id": "c3c220a8-a41c-4786-bb29-30eda7fae9f7",
   "metadata": {},
   "outputs": [],
   "source": [
    "# Módulos para Jupyter\n",
    "\n",
    "import numpy as np\n",
    "import matplotlib as mpl\n",
    "from matplotlib import pyplot as plt\n",
    "#%%  Inicialización de librerías\n",
    "# Setup inline graphics: Esto lo hacemos para que el tamaño de la salida, \n",
    "# sea un poco más adecuada al tamaño del documento\n",
    "mpl.rcParams['figure.figsize'] = (25,15)\n",
    "\n",
    "#%% Esto tiene que ver con cuestiones de presentación de los gráficos,\n",
    "# NO ES IMPORTANTE\n",
    "fig_sz_x = 14\n",
    "fig_sz_y = 13\n",
    "fig_dpi = 80 # dpi\n",
    "\n",
    "#fig_font_family = 'Ubuntu'\n",
    "fig_font_size = 16\n",
    "\n",
    "plt.rcParams.update({'font.size':fig_font_size})\n",
    "#plt.rcParams.update({'font.family':fig_font_family})\n",
    "\n",
    "# módulo de SciPy\n",
    "from scipy import signal as sig\n",
    "\n",
    "import sympy as sp\n",
    "import splane as tc2\n",
    "from schemdraw import Drawing\n",
    "from schemdraw.elements import  Resistor, Capacitor, Inductor\n",
    "import numpy as np\n",
    "import ltspice"
   ]
  }
 ],
 "metadata": {
  "kernelspec": {
   "display_name": "Python 3 (ipykernel)",
   "language": "python",
   "name": "python3"
  },
  "language_info": {
   "codemirror_mode": {
    "name": "ipython",
    "version": 3
   },
   "file_extension": ".py",
   "mimetype": "text/x-python",
   "name": "python",
   "nbconvert_exporter": "python",
   "pygments_lexer": "ipython3",
   "version": "3.9.7"
  }
 },
 "nbformat": 4,
 "nbformat_minor": 5
}
