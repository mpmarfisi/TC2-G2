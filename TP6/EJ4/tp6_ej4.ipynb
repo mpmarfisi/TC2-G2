{
 "cells": [
  {
   "cell_type": "markdown",
   "metadata": {},
   "source": [
    "# TP6 - Ejercicio 4\n",
    "\n",
    "## Consigna\n",
    "\n",
    "Encuentre el valor de los elementos que integran el siguiente dipolo y que satisface la función de excitación propuesta:\n",
    "\n",
    "$Z(s) = \\frac{s^2+10.s+24}{s^2+12.s+20}$\n",
    "\n",
    "![red_consigna](img/ej4_consigna.JPG)"
   ]
  },
  {
   "cell_type": "markdown",
   "metadata": {},
   "source": [
    "### Resolución\n",
    "\n",
    "Se puede plantear el dipolo como un circuito serie compuesto por $R_1$, $Z_L$ y $Z_C$:\n",
    "\n",
    "![red_equivalente](img/ej4_red_equivalente.JPG)\n",
    "\n",
    "$Z(s) = \\frac{s^2+10.s+24}{s^2+12.s+20} = \\frac{(s+4).(s+6)}{(s+2).(s+10)}$\n",
    "\n",
    "$Z_L = \\frac{1}{\\frac{1}{R_2}+\\frac{1}{s.L_1}} = \\frac{s.R_2.L_1}{s.L_1+R_2} = \\frac{s.R_2}{s+\\frac{R_2}{L_1}}$\n",
    "\n",
    "$Z_C = \\frac{1}{s.C_1+\\frac{1}{R_3}} = \\frac{R_3}{s.R_3.C_1+1} = \\frac{\\frac{1}{C_1}}{s+\\frac{1}{R_3.C_1}}$\n",
    "\n",
    "Analizando el comportamiento para $s=0$ y para $s \\to \\infty$:\n",
    "\n",
    "$Z(s)|_{s=0} = R_1 + R_3 = \\frac{6}{5}$\n",
    "\n",
    "![red_en_continua](img/ej4_red_zero.JPG)\n",
    "\n",
    "$Z(s)|_{s \\to \\infty} = R_1 + R_2 = 1$\n",
    "\n",
    "![red_en_infty](img/ej4_red_infty.JPG)\n",
    "\n",
    "$Z(s) = R_1+Z_L+Z_C = R_1 + \\frac{s.R_2}{s+\\frac{R_2}{L_1}} + \\frac{\\frac{1}{C_1}}{s+\\frac{1}{R_3.C_1}}$\n",
    "\n",
    "$Z(s) = R_1 + \\frac{s.K_L}{s+\\sigma_L} + \\frac{K_C}{s+\\sigma_C}$\n",
    "\n",
    "Asumo:\n",
    "\n",
    "* $(s+\\sigma_L) = s+10$\n",
    "* $(s+\\sigma_C) = s+2$\n",
    "\n",
    "$K_L = \\lim_{s\\to(-10)} Z(s) . \\frac{(s+10)}{s} = \\lim_{s\\to(-10)} \\frac{(s+4).(s+6)}{(s+2).(s+10)} . \\frac{(s+10)}{s} = \\frac{(-10+4).(-10+6)}{(-10+2).(-10)} = \\frac{3}{10}$\n",
    "\n",
    "$K_C = \\lim_{s\\to(-2)} Z(s) . (s+2) = \\lim_{s\\to(-2)} \\frac{(s+4).(s+6)}{(s+2).(s+10)} . (s+2) = \\frac{(-2+4).(-2+6)}{(-2+10)} = 1$\n",
    "\n",
    "$R_2=K_L=\\frac{3}{10}$\n",
    "\n",
    "$L_1 = \\frac{\\sigma_L}{K_L} = \\frac{100}{3}$\n",
    "\n",
    "$R_3 = \\frac{K_C}{\\sigma_C} = \\frac{1}{2}$\n",
    "\n",
    "$C_1 = \\frac{1}{K_C} = 1$\n",
    "\n",
    "Finalmente, se puede obtener y corroborar el valor de $R_1$:\n",
    "\n",
    "$R_1 + R_3 = \\frac{6}{5}$\n",
    "\n",
    "$R_1 = \\frac{6}{5} - R_3 = \\frac{6}{5} - \\frac{1}{2} = \\frac{7}{10}$\n",
    "\n",
    "$R_1 + R_2 = 1$\n",
    "\n",
    "$R_1 = 1 - R_2 = 1 - \\frac{3}{10} = \\frac{7}{10}$\n",
    "\n",
    "![red_final](img/ej4_red_final.JPG)\n"
   ]
  }
 ],
 "metadata": {
  "kernelspec": {
   "display_name": "Python 3.9.7 ('base')",
   "language": "python",
   "name": "python3"
  },
  "language_info": {
   "codemirror_mode": {
    "name": "ipython",
    "version": 3
   },
   "file_extension": ".py",
   "mimetype": "text/x-python",
   "name": "python",
   "nbconvert_exporter": "python",
   "pygments_lexer": "ipython3",
   "version": "3.9.7"
  },
  "orig_nbformat": 4,
  "vscode": {
   "interpreter": {
    "hash": "6ca364f2759a5aafb09686aa9324eacc5d501526362630bb6a990b46351437c4"
   }
  }
 },
 "nbformat": 4,
 "nbformat_minor": 2
}
