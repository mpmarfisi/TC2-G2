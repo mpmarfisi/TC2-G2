{
 "cells": [
  {
   "cell_type": "markdown",
   "metadata": {},
   "source": [
    "# TP6 - Ejercicio 1\n",
    "\n",
    "## Consigna\n",
    "\n",
    "Dada la siguiente función de excitación, obtener su expansión de Foster, sintetizar la red, simularla y verificar utilizando MAI.\n",
    "\n",
    "$F(s) = \\frac{(s^2+1).(s^2+5).(s^2+20)}{s.(s^2+10).(s^2+2)}$\n",
    "\n",
    "¿Es esta la única solución que encuentra para sintetizar la red?"
   ]
  },
  {
   "cell_type": "markdown",
   "metadata": {},
   "source": [
    "## Resolución\n",
    "\n",
    "Expansión de Foster:\n",
    "\n",
    "$F(s) = \\frac{K_0}{s} + K_{\\infty}.s + \\Sigma_{i=1}^N \\frac{2.K_i.s}{s^2+\\omega_i^2}$\n",
    "\n",
    "$K_0 = \\lim_{s \\to 0} F(s) . s = \\lim_{s \\to 0} \\frac{(s^2+1).(s^2+5).(s^2+20)}{s.(s^2+10).(s^2+2)} . s = \\frac{(0+1).(0+5).(0+20)}{(0+10).(0+2)} = \\frac{100}{20} = 5$\n",
    "\n",
    "$K_{\\infty} = \\lim_{s \\to \\infty} \\frac{F(s)}{s} = \\lim_{s \\to \\infty} \\frac{(s^2+1).(s^2+5).(s^2+20)}{s^2.(s^2+10).(s^2+2)} = \\lim_{s \\to \\infty} \\frac{s^6}{s^6} = 1$\n",
    "\n",
    "$2.K_1 = \\lim_{s^2 \\to (-10)} F(s) . \\frac{s^2+10}{s} = \\lim_{s^2 \\to (-10)} \\frac{(s^2+1).(s^2+5).(s^2+20)}{s.(s^2+10).(s^2+2)} . \\frac{s^2+10}{s} = \\frac{(-10+1).(-10+5).(-10+20)}{(-10).(-10+2)} = \\frac{45}{8}$\n",
    "\n",
    "$2.K_2 = \\lim_{s^2 \\to (-2)} F(s) . \\frac{s^2+2}{s} = \\lim_{s^2 \\to (-2)} \\frac{(s^2+1).(s^2+5).(s^2+20)}{s.(s^2+10).(s^2+2)} . \\frac{s^2+2}{s} = \\frac{(-2+1).(-2+5).(-2+20)}{(-2).(-2+10)} = \\frac{27}{8}$\n",
    "\n",
    "La expansión de Foster queda:\n",
    "\n",
    "$F(s) = \\frac{5}{s} + 1.s + \\frac{\\frac{45}{8}.s}{s^2+10} + \\frac{\\frac{27}{8}.s}{s^2+2}$\n",
    "\n",
    "Esta expansión se puede sintetizar como una red de impedancias en serie o de admitancias en derivación:\n",
    "\n",
    "![red_z](img/ej1_red_z.JPG)\n",
    "\n",
    "![red_Y](img/ej1_red_y.JPG)"
   ]
  }
 ],
 "metadata": {
  "kernelspec": {
   "display_name": "Python 3.9.7 ('base')",
   "language": "python",
   "name": "python3"
  },
  "language_info": {
   "name": "python",
   "version": "3.9.7"
  },
  "orig_nbformat": 4,
  "vscode": {
   "interpreter": {
    "hash": "6ca364f2759a5aafb09686aa9324eacc5d501526362630bb6a990b46351437c4"
   }
  }
 },
 "nbformat": 4,
 "nbformat_minor": 2
}
