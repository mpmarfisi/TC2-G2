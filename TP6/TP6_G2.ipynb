{
 "cells": [
  {
   "cell_type": "markdown",
   "metadata": {},
   "source": [
    "<img src=\"logo_UTN.svg\" align=\"right\" width=\"150\" /> \n",
    "\n",
    "# Teoría de Circuitos II\n",
    "\n",
    "## Trabajo Práctico 6\n",
    "\n",
    "### Por Grupo 2\n"
   ]
  },
  {
   "cell_type": "markdown",
   "metadata": {},
   "source": [
    "# Ejercicio 1\n",
    "\n",
    "## Consigna\n",
    "\n",
    "Dada la siguiente función de excitación, obtener su expansión de Foster, sintetizar la red, simularla y verificar utilizando MAI.\n",
    "\n",
    "$F(s) = \\frac{(s^2+1).(s^2+5).(s^2+20)}{s.(s^2+10).(s^2+2)}$\n",
    "\n",
    "¿Es esta la única solución que encuentra para sintetizar la red?"
   ]
  },
  {
   "cell_type": "markdown",
   "metadata": {},
   "source": [
    "## Resolución\n",
    "\n",
    "Expansión de Foster:\n",
    "\n",
    "$F(s) = \\frac{K_0}{s} + K_{\\infty}.s + \\Sigma_{i=1}^N \\frac{2.K_i.s}{s^2+\\omega_i^2}$\n",
    "\n",
    "$K_0 = \\lim_{s \\to 0} F(s) . s = \\lim_{s \\to 0} \\frac{(s^2+1).(s^2+5).(s^2+20)}{s.(s^2+10).(s^2+2)} . s = \\frac{(0+1).(0+5).(0+20)}{(0+10).(0+2)} = \\frac{100}{20} = 5$\n",
    "\n",
    "$K_{\\infty} = \\lim_{s \\to \\infty} \\frac{F(s)}{s} = \\lim_{s \\to \\infty} \\frac{(s^2+1).(s^2+5).(s^2+20)}{s^2.(s^2+10).(s^2+2)} = \\lim_{s \\to \\infty} \\frac{s^6}{s^6} = 1$\n",
    "\n",
    "$2.K_1 = \\lim_{s^2 \\to (-10)} F(s) . \\frac{s^2+10}{s} = \\lim_{s^2 \\to (-10)} \\frac{(s^2+1).(s^2+5).(s^2+20)}{s.(s^2+10).(s^2+2)} . \\frac{s^2+10}{s} = \\frac{(-10+1).(-10+5).(-10+20)}{(-10).(-10+2)} = \\frac{45}{8}$\n",
    "\n",
    "$2.K_2 = \\lim_{s^2 \\to (-2)} F(s) . \\frac{s^2+2}{s} = \\lim_{s^2 \\to (-2)} \\frac{(s^2+1).(s^2+5).(s^2+20)}{s.(s^2+10).(s^2+2)} . \\frac{s^2+2}{s} = \\frac{(-2+1).(-2+5).(-2+20)}{(-2).(-2+10)} = \\frac{27}{8}$\n",
    "\n",
    "La expansión de Foster queda:\n",
    "\n",
    "$F(s) = \\frac{5}{s} + 1.s + \\frac{\\frac{45}{8}.s}{s^2+10} + \\frac{\\frac{27}{8}.s}{s^2+2}$\n",
    "\n",
    "Esta expansión se puede sintetizar como una red de impedancias en serie o de admitancias en derivación:\n",
    "\n",
    "![red_z](EJ1/img/ej1_red_z.JPG)\n",
    "\n",
    "![red_Y](EJ1/img/ej1_red_y.JPG)"
   ]
  },
  {
   "cell_type": "markdown",
   "metadata": {
    "tags": []
   },
   "source": [
    "## Ejercicio 2"
   ]
  },
  {
   "cell_type": "markdown",
   "metadata": {
    "tags": []
   },
   "source": [
    "## Consigna"
   ]
  },
  {
   "cell_type": "markdown",
   "metadata": {},
   "source": [
    "![Consigna](EJ2/Consigna.png \"Consigna\")"
   ]
  },
  {
   "cell_type": "markdown",
   "metadata": {
    "tags": []
   },
   "source": [
    "## Resolución"
   ]
  },
  {
   "cell_type": "markdown",
   "metadata": {},
   "source": [
    "![1](EJ2/Desarrollo/1.jpeg \"1\")"
   ]
  },
  {
   "cell_type": "markdown",
   "metadata": {},
   "source": [
    "![2](EJ2/Desarrollo/2.jpeg \"2\")"
   ]
  },
  {
   "cell_type": "markdown",
   "metadata": {
    "tags": []
   },
   "source": [
    "## Simulacion"
   ]
  },
  {
   "cell_type": "code",
   "execution_count": 10,
   "metadata": {},
   "outputs": [],
   "source": [
    "# Módulos para Jupyter\n",
    "\n",
    "import numpy as np\n",
    "import matplotlib as mpl\n",
    "from matplotlib import pyplot as plt\n",
    "#%%  Inicialización de librerías\n",
    "# Setup inline graphics: Esto lo hacemos para que el tamaño de la salida, \n",
    "# sea un poco más adecuada al tamaño del documento\n",
    "mpl.rcParams['figure.figsize'] = (25,15)\n",
    "\n",
    "#%% Esto tiene que ver con cuestiones de presentación de los gráficos,\n",
    "# NO ES IMPORTANTE\n",
    "fig_sz_x = 14\n",
    "fig_sz_y = 13\n",
    "fig_dpi = 80 # dpi\n",
    "\n",
    "#fig_font_family = 'Ubuntu'\n",
    "fig_font_size = 16\n",
    "\n",
    "plt.rcParams.update({'font.size':fig_font_size})\n",
    "#plt.rcParams.update({'font.family':fig_font_family})\n",
    "\n",
    "# módulo de SciPy\n",
    "from scipy import signal as sig\n",
    "\n",
    "import sympy as sp\n",
    "import splane as tc2\n",
    "from schemdraw import Drawing\n",
    "from schemdraw.elements import  Resistor, Capacitor, Inductor\n",
    "import numpy as np\n",
    "import ltspice"
   ]
  },
  {
   "cell_type": "markdown",
   "metadata": {},
   "source": [
    "# Ejercicio 3\n",
    "\n",
    "## Consigna\n",
    "\n",
    "Dada la función de Excitación $Z(s)$ se pide hallar los valores de los componentes sabiendo que $L_1 . C_2 = \\frac{1}{\\pi}$\n",
    "\n",
    "$Z(s) = \\frac{2.s^2+1}{s.(3.s^2+2)}$\n",
    "\n",
    "![ej3_consigna](EJ3/img/ej3_consignaJPG.JPG)\n",
    "\n",
    "¿Desde el punto de vista de transmisión: tiene polo, cero o un nivel constante en corriente continua?\n"
   ]
  },
  {
   "cell_type": "markdown",
   "metadata": {},
   "source": [
    "## Resolución\n",
    "\n",
    "La topología nos induce a remover un capacitor en derivación, por lo tanto, es conveniente primero invertir la función:\n",
    "\n",
    "$Y(s) = \\frac{1}{Z(s)} = \\frac{s.(3.s^2+2)}{2.s^2+1}$\n",
    "\n",
    "Como sabemos que el tanque resuena con $\\omega^2=\\frac{1}{L_1.C_2}$ entonces podemos decir que la $\\omega$ de resonancia del tanque será:\n",
    "\n",
    "$\\omega^2=\\pi$\n",
    "\n",
    "Planteamos:\n",
    "\n",
    "$Y_2(s) = Y(s) - K_0'.s$\n",
    "\n",
    "Donde:\n",
    "\n",
    "$K_0' = \\lim_{s^2 \\to (-\\pi)} \\frac{Y(s)}{s} = \\lim_{s^2 \\to (-\\pi)} \\frac{s.(3.s^2+2)}{s.(2.s^2+1)} = \\frac{3.(-\\pi)+2}{2.(-\\pi)+1} = 1,4053$\n",
    "\n",
    "$Y_2(s) = \\frac{s.(3.s^2+2)}{2.s^2+1} - 1,4053 . s = \\frac{s.(3.s^2+2) - 1,4053.s.(2.s^2+1)}{2.s^2+1} = \\frac{s.(3.s^2-2,8106.s^2+2-1,4053)}{2.s^2+1} = \\frac{s.(0,1894.s^2+0,5947)}{2.s^2+1}$\n",
    "\n",
    "$Y_2(s) = \\frac{s.0,1894.(s^2+3,1399)}{2.s^2+1} = \\frac{s.0,1894.(s^2+\\pi)}{2.s^2+1}$\n",
    "\n",
    "Invertimos: $Z_2 = \\frac{1}{Y_2}$\n",
    "\n",
    "$Z_2(s) = \\frac{2.s^2+1}{s.0,1894.(s^2+\\pi)}$\n",
    "\n",
    "$Z_4(s) = Z_2(s) - \\frac{2.K_1.s}{s^2+\\pi}$\n",
    "\n",
    "$2.K_1 = \\lim_{s^2 \\to (-\\pi)} Z_2(s) . \\frac{s^2+\\pi}{s} = \\lim_{s^2 \\to (-\\pi)} \\frac{2.s^2+1}{s.0,1894.(s^2+\\pi)} . \\frac{s^2+\\pi}{s} = \\frac{2.(-\\pi)+1}{0,1894.(-\\pi)} = 8,88$\n",
    "\n",
    "$Z_4(s) = \\frac{2.s^2+1}{s.0,1894.(s^2+\\pi)} - \\frac{8,88.s}{s^2+\\pi} = \\frac{2.s^2+1}{s.0,1894.(s^2+\\pi)} - \\frac{(s.0,1894).8,88.s}{s.0,1894.(s^2+\\pi)} = \\frac{2.s^2+1-1,6818.s^2}{s.0,1894.(s^2+\\pi)} = \\frac{0,3182.s^2+1}{s.0,1894.(s^2+\\pi)} = \\frac{0,3182.(s^2+3,1426)}{s.0,1894.(s^2+\\pi)} = \\frac{0,3182.(s^2+\\pi)}{s.0,1894.(s^2+\\pi)} = \\frac{1}{0,59.s}$\n",
    "\n",
    "Finalmente, el circuito queda:\n",
    "\n",
    "![red_con_valores](EJ3/img/ej3_red_con_valores.JPG)\n",
    "\n",
    "En el análisis gráfico se puede observar que en continua existe un polo:\n",
    "\n",
    "<div><img src=\"EJ3/img/ej3_grafico.jpeg\" width=\"500\"/></div>\n"
   ]
  }
 ],
 "metadata": {
  "kernelspec": {
   "display_name": "Python 3 (ipykernel)",
   "language": "python",
   "name": "python3"
  },
  "language_info": {
   "codemirror_mode": {
    "name": "ipython",
    "version": 3
   },
   "file_extension": ".py",
   "mimetype": "text/x-python",
   "name": "python",
   "nbconvert_exporter": "python",
   "pygments_lexer": "ipython3",
   "version": "3.9.7"
  },
  "vscode": {
   "interpreter": {
    "hash": "6ca364f2759a5aafb09686aa9324eacc5d501526362630bb6a990b46351437c4"
   }
  }
 },
 "nbformat": 4,
 "nbformat_minor": 4
}
