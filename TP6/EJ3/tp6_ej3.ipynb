{
 "cells": [
  {
   "cell_type": "markdown",
   "metadata": {},
   "source": [
    "# TP6 - Ejercicio 3\n",
    "\n",
    "## Consigna\n",
    "\n",
    "Dada la función de Excitación $Z(s)$ se pide hallar los valores de los componentes sabiendo que $L_1 . C_2 = \\frac{1}{\\pi}$\n",
    "\n",
    "$Z(s) = \\frac{2.s^2+1}{s.(3.s^2+2)}$\n",
    "\n",
    "![ej3_consigna](img/ej3_consignaJPG.JPG)\n",
    "\n",
    "¿Desde el punto de vista de transmisión: tiene polo, cero o un nivel constante en corriente continua?\n"
   ]
  },
  {
   "cell_type": "markdown",
   "metadata": {},
   "source": [
    "## Resolución\n",
    "\n",
    "La topología nos induce a remover un capacitor en derivación, por lo tanto, es conveniente primero invertir la función:\n",
    "\n",
    "$Y(s) = \\frac{1}{Z(s)} = \\frac{s.(3.s^2+2)}{2.s^2+1}$\n",
    "\n",
    "Como sabemos que el tanque resuena con $\\omega^2=\\frac{1}{L_1.C_2}$ entonces podemos decir que la $\\omega$ de resonancia del tanque será:\n",
    "\n",
    "$\\omega^2=\\pi$\n",
    "\n",
    "Planteamos:\n",
    "\n",
    "$Y_2(s) = Y(s) - K_0'.s$\n",
    "\n",
    "Donde:\n",
    "\n",
    "$K_0' = \\lim_{s^2 \\to (-\\pi)} \\frac{Y(s)}{s} = \\lim_{s^2 \\to (-\\pi)} \\frac{s.(3.s^2+2)}{s.(2.s^2+1)} = \\frac{3.(-\\pi)+2}{2.(-\\pi)+1} = 1,4053$\n",
    "\n",
    "$Y_2(s) = \\frac{s.(3.s^2+2)}{2.s^2+1} - 1,4053 . s = \\frac{s.(3.s^2+2) - 1,4053.s.(2.s^2+1)}{2.s^2+1} = \\frac{s.(3.s^2-2,8106.s^2+2-1,4053)}{2.s^2+1} = \\frac{s.(0,1894.s^2+0,5947)}{2.s^2+1}$\n",
    "\n",
    "$Y_2(s) = \\frac{s.0,1894.(s^2+3,1399)}{2.s^2+1} = \\frac{s.0,1894.(s^2+\\pi)}{2.s^2+1}$\n",
    "\n",
    "Invertimos: $Z_2 = \\frac{1}{Y_2}$\n",
    "\n",
    "$Z_2(s) = \\frac{2.s^2+1}{s.0,1894.(s^2+\\pi)}$\n",
    "\n",
    "$Z_4(s) = Z_2(s) - \\frac{2.K_1.s}{s^2+\\pi}$\n",
    "\n",
    "$2.K_1 = \\lim_{s^2 \\to (-\\pi)} Z_2(s) . \\frac{s^2+\\pi}{s} = \\lim_{s^2 \\to (-\\pi)} \\frac{2.s^2+1}{s.0,1894.(s^2+\\pi)} . \\frac{s^2+\\pi}{s} = \\frac{2.(-\\pi)+1}{0,1894.(-\\pi)} = 8,88$\n",
    "\n",
    "$Z_4(s) = \\frac{2.s^2+1}{s.0,1894.(s^2+\\pi)} - \\frac{8,88.s}{s^2+\\pi} = \\frac{2.s^2+1}{s.0,1894.(s^2+\\pi)} - \\frac{(s.0,1894).8,88.s}{s.0,1894.(s^2+\\pi)} = \\frac{2.s^2+1-1,6818.s^2}{s.0,1894.(s^2+\\pi)} = \\frac{0,3182.s^2+1}{s.0,1894.(s^2+\\pi)} = \\frac{0,3182.(s^2+3,1426)}{s.0,1894.(s^2+\\pi)} = \\frac{0,3182.(s^2+\\pi)}{s.0,1894.(s^2+\\pi)} = \\frac{1}{0,59.s}$\n",
    "\n",
    "Finalmente, el circuito queda:\n",
    "\n",
    "![red_con_valores](img/ej3_red_con_valores.JPG)\n",
    "\n",
    "En el análisis gráfico se puede observar que en continua existe un polo:\n",
    "\n",
    "<div><img src=\"img/ej3_grafico.jpeg\" width=\"500\"/></div>\n"
   ]
  }
 ],
 "metadata": {
  "kernelspec": {
   "display_name": "Python 3.9.7 ('base')",
   "language": "python",
   "name": "python3"
  },
  "language_info": {
   "name": "python",
   "version": "3.9.7"
  },
  "orig_nbformat": 4,
  "vscode": {
   "interpreter": {
    "hash": "6ca364f2759a5aafb09686aa9324eacc5d501526362630bb6a990b46351437c4"
   }
  }
 },
 "nbformat": 4,
 "nbformat_minor": 2
}
