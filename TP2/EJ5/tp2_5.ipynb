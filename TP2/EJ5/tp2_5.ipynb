{
 "cells": [
  {
   "cell_type": "markdown",
   "metadata": {},
   "source": [
    "# TP2 - Ejercicio 5\n",
    "\n",
    "## Consignas\n",
    "Dada la siguiente plantilla:\n",
    "\n",
    "![Plantilla_PA](img/ej5_plantilla_pa.JPG)\n",
    "\n",
    "* Determinar un filtro que satisfaga la plantilla con el menor orden posible.\n",
    "* Comparar los resultados con los polos del ejercicio 4.\n",
    "* Implementar el circuito con estructuras pasivas adaptadas mediante buffers.\n",
    "* Utilizando una norma de impedancia $Z_N = 2,2K\\Omega$, obtenga el valor de los componentes.\n",
    "* Active las bobinas utilizando una estructura con OTAs."
   ]
  },
  {
   "cell_type": "markdown",
   "metadata": {},
   "source": [
    "## Resolución\n",
    "\n",
    "Pasamos la plantilla a frecuencia angular y normalizamos en función de $f_p$.\n",
    "\n",
    "<div><img src=\"img/ej5_plantilla_normalizada.jpeg\" width=\"500\"/></div>\n",
    "\n",
    "\n",
    "A continuación, s edebe obtener la plantilla del filtro pasa-bajos prototipo a través de la función de transformación:\n",
    "\n",
    "$\\Omega = \\frac{1}{\\omega}$\n",
    "\n",
    "$\\Omega_p = \\frac{1}{\\omega_p} = 1$\n",
    "\n",
    "$\\Omega_s = \\frac{1}{\\omega_s} = 3$\n",
    "\n",
    "Plantilla del filtro pasa-bajos prototipo:\n",
    "\n",
    "<div><img src=\"img/ej5_plantilla_prototipo_PB.jpeg\" width=\"500\"/></div>\n",
    "\n",
    "\n",
    "Como se debe obtener el filtro de menor orden posible, planteamos una aproximación por Chebyshev.\n",
    "\n",
    "$|T(j\\Omega)|^2=\\frac{1}{1+\\epsilon^2 . {C_n}^2(\\Omega)}$\n",
    "\n",
    "$C_n(\\Omega) = cosh(n . cosh^{-1}(\\Omega))$\n",
    "\n",
    "$C_n(\\Omega) = 2 . \\Omega . C_{n-1} - C_{n-2}$\n",
    "\n",
    "$C_0 = 1$\n",
    "\n",
    "$C_1 = \\Omega$\n",
    "\n",
    "Para $\\Omega = 1$: ${C_n}^2(\\Omega) = 1$, por lo cual podemos despejar $\\epsilon^2$ como:\n",
    "\n",
    "$\\epsilon^2=10^{\\frac{\\alpha_{max}}{10}}-1 = 0,0964$\n",
    "\n",
    "$\\epsilon = 0,31$\n",
    "\n",
    "Luego, podemos hallar el $n$ iterando."
   ]
  },
  {
   "cell_type": "code",
   "execution_count": 1,
   "metadata": {},
   "outputs": [
    {
     "name": "stdout",
     "output_type": "stream",
     "text": [
      "ee: 0.09647819614318509\n",
      "alpha(n = 1) = 2.714474890586518\n",
      "alpha(n = 2) = 14.606302512446167\n",
      "alpha(n = 3) = 29.761586089852262\n",
      "alpha(n = 4) = 45.067943217860424\n",
      "alpha(n = 5) = 60.378833074960205\n",
      "alpha(n = 6) = 75.689856439126\n"
     ]
    }
   ],
   "source": [
    "import numpy as np\n",
    "\n",
    "ws = 3\n",
    "ee = 10**(0.4/10)-1\n",
    "print(f'ee: {ee}')\n",
    "\n",
    "for n in range(1,7):\n",
    "    Cn = np.cosh(n*np.arccosh(ws))\n",
    "    alpha = 10*np.log10(1+ee*Cn**2)\n",
    "    print(f'alpha(n = {n}) = {alpha}')"
   ]
  },
  {
   "cell_type": "markdown",
   "metadata": {},
   "source": [
    "El menor orden que cumple con el requerimiento de $\\alpha_{min}$ es $n=5$\n",
    "\n",
    "Expresando los polinomios de $C_n$:\n",
    "\n",
    "* $C_0 = 1$\n",
    "* $C_1 = \\Omega$\n",
    "* $C_2 = 2 . \\Omega . (\\Omega) - (1) = 2 . \\Omega^2 -1$\n",
    "* $C_3 = 2 . \\Omega . (2 . \\Omega^2 -1) - (\\Omega) = 4 . \\Omega^3 - 3 . \\Omega$\n",
    "* $C_4 = 2 . \\Omega . (4 . \\Omega^3 - 3 . \\Omega) - (2 . \\Omega^2 -1) = 8 . \\Omega^4- 8 . \\Omega^2 + 1$\n",
    "* $C_5 = 2 . \\Omega . (8 . \\Omega^4- 8 . \\Omega^2 + 1) - (4 . \\Omega^3 - 3 . \\Omega) = 16 . \\Omega^5 - 20 . \\Omega^3 + 5 . \\Omega$\n",
    "\n",
    "La expresión quedaría:\n",
    "\n",
    "$|T(j\\Omega)|^2 = \\frac{1}{1 + \\epsilon^2 . {C_5}^2} = \\frac{1}{1 + \\epsilon^2 . (16 . \\Omega^5 - 20 . \\Omega^3 + 5 . \\Omega)^2}$\n",
    "\n",
    "$|T(j\\Omega)|^2 = \\frac{1}{\\epsilon^2 . 256 . \\Omega^{10} - \\epsilon^2 . 640 . \\Omega^8 + \\epsilon^2 . 560 . \\Omega^6 - \\epsilon^2 . 200 . \\Omega^4 + \\epsilon^2 . 25 . \\Omega^2 +1}$\n",
    "\n",
    "Considerando $\\Omega = \\frac{S}{j}$ y  teniendo en cuenta que:\n",
    "\n",
    "* $j^{10} = -1$\n",
    "* $j^8 = 1$\n",
    "* $j^6 = -1$\n",
    "* $j^4 = 1$\n",
    "* $j^2 = -1$\n",
    "\n",
    "La expresión queda:\n",
    "\n",
    "${|T(S)|^2}_{\\Omega = \\frac{S}{j}} = \\frac{1}{-\\epsilon^2 . 256 . \\Omega^{10} - \\epsilon^2 . 640 . \\Omega^8 - \\epsilon^2 . 560 . \\Omega^6 - \\epsilon^2 . 200 . \\Omega^4 - \\epsilon^2 . 25 . \\Omega^2 +1}$"
   ]
  },
  {
   "cell_type": "code",
   "execution_count": 2,
   "metadata": {},
   "outputs": [
    {
     "name": "stdout",
     "output_type": "stream",
     "text": [
      "(-0.11932228274117741+1.0194954351513654j)\n",
      "(-0.11932228274117741-1.0194954351513654j)\n",
      "(-0.3123897918316235+0.6300828302989064j)\n",
      "(-0.3123897918316235-0.6300828302989064j)\n",
      "(-0.38613501818089585+0j)\n"
     ]
    }
   ],
   "source": [
    "# Despejamos las raices y nos quedamos con aquellas que tengan parte real negativa.\n",
    "\n",
    "den = [-ee*256, 0, -ee*640, 0, -ee*560, 0, -ee*200, 0, -ee*25, 0, 1]\n",
    "raices = np.roots(den)\n",
    "\n",
    "for raiz in raices:\n",
    "    if np.real(raiz) < 0:\n",
    "        print(raiz)"
   ]
  },
  {
   "cell_type": "markdown",
   "metadata": {},
   "source": [
    "Acomodando la expresión queda:\n",
    "\n",
    "$T(S) = \\frac{1}{16 . \\epsilon} . \\frac{1}{S+0,3862} . \\frac{1}{[S+(0,1193+j1,0195)].[S+(0,1193-j1,0195)]} . \\frac{1}{[S+(0,3124+j0,63)].[S+(0,3124-j0,63)]}$\n",
    "\n",
    "$T(S) = \\frac{1}{16 . \\epsilon} . \\frac{1}{S+0,3862} . \\frac{1}{S^2 + S . 0,2386 + 1,0536} . \\frac{1}{S^2 + S . 0,6248 + 0,4944}$\n",
    "\n",
    "Aplicando la función de transformación, se lleva esta transferencia prototipo a la forma de un pasa altos.\n",
    "\n",
    "$S = \\frac{1}{s}$\n",
    "\n",
    "$T(S) = \\frac{1}{16 . \\epsilon} . \\frac{1}{\\frac{1}{s}+0,3862} . \\frac{1}{(\\frac{1}{s})^2 + \\frac{1}{s} . 0,2386 + 1,0536} . \\frac{1}{(\\frac{1}{s})^2 + \\frac{1}{s} . 0,6248 + 0,4944}$\n",
    "\n",
    "$T(S) = \\frac{1}{16 . \\epsilon} . \\frac{s}{s . 0,3862 + 1} . \\frac{s^2}{s^2 . 1,0536 + s . 0,2386 + 1} . \\frac{s^2}{s^2 0,4944 + s . 0,6248 + 1}$\n",
    "\n",
    "$T(S) = \\frac{1}{16 . \\epsilon . 0,3862 . 1,0536 . 0,4944} . \\frac{s}{s + 2,59} . \\frac{s^2}{s^2 + s . 0,23 + 0,95} . \\frac{s^2}{s^2 + s . 1,26 + 2}$\n",
    "\n",
    "$T(S) = 0,387 . \\frac{s}{s + 2,59} . \\frac{s^2}{s^2 + s . 0,23 + 0,95} . \\frac{s^2}{s^2 + s . 1,26 + 2}$"
   ]
  },
  {
   "cell_type": "code",
   "execution_count": 3,
   "metadata": {},
   "outputs": [
    {
     "data": {
      "image/png": "[encoded data removed]",
      "text/plain": [
       "<Figure size 432x288 with 2 Axes>"
      ]
     },
     "metadata": {
      "needs_background": "light"
     },
     "output_type": "display_data"
    },
    {
     "data": {
      "image/png": "[encoded data removed]",
      "text/plain": [
       "<Figure size 432x288 with 1 Axes>"
      ]
     },
     "metadata": {
      "needs_background": "light"
     },
     "output_type": "display_data"
    },
    {
     "data": {
      "image/png": "[encoded data removed]",
      "text/plain": [
       "<Figure size 432x288 with 1 Axes>"
      ]
     },
     "metadata": {
      "needs_background": "light"
     },
     "output_type": "display_data"
    }
   ],
   "source": [
    "import matplotlib.pyplot as plt\n",
    "import scipy.signal as sig\n",
    "from splane import analyze_sys\n",
    "\n",
    "num = [0.387, 0, 0, 0, 0, 0]\n",
    "den = [1, 4.08, 7.09, 10.04, 6.19, 4.921]\n",
    "\n",
    "transfer_f = sig.TransferFunction(num, den)\n",
    "\n",
    "plt.close('all')\n",
    "analyze_sys(transfer_f, 'Transferencia')"
   ]
  },
  {
   "cell_type": "markdown",
   "metadata": {},
   "source": [
    "La configuración de polos y ceros difiere principalmente de la del ejercicio 4 en la existencia de un polo sobre el eje real, ya que este filtro es de un orden impar."
   ]
  },
  {
   "cell_type": "markdown",
   "metadata": {},
   "source": [
    "Para la etapa de orden 1, utilizamos una red pasiva con la forma:\n",
    "\n",
    "![Red_pasiva_orden_1](img/ej5_red_pasiva_orden_1.JPG)\n",
    "\n",
    "Cuya transferencia se expresa como:\n",
    "\n",
    "$T(s) = \\frac{s}{s+\\frac{1}{R.C}}$\n",
    "\n",
    "Para las etapas de orden 2, utilizamos redes pasivas con la forma\n",
    "\n",
    "![Red_pasiva_orden_2](img/ej5_red_pasiva_orden_2.JPG)\n",
    "\n",
    "Cuya transferencia se expresa como:\n",
    "\n",
    "$T(s) = \\frac{s^2}{s^2 + s . \\frac{R}{L} + \\frac{1}{L.C}}$\n",
    "\n",
    "Asumiendo $C = 1$ para todas las etapas:\n",
    "\n",
    "Etapa 1:\n",
    "\n",
    "$\\frac{1}{R.C} = 2,59$\n",
    "\n",
    "$R = \\frac{1}{2,59} = 0,386$\n",
    "\n",
    "Etapa 2:\n",
    "\n",
    "$\\frac{1}{L.C} = 0,95$\n",
    "\n",
    "$L = \\frac{1}{0,95} = 1,05$\n",
    "\n",
    "$\\frac{R}{L} = 0,23$\n",
    "\n",
    "$R = 0,23 . 1,05 = 0,2415$\n",
    "\n",
    "Etapa 3:\n",
    "\n",
    "$\\frac{1}{L.C} = 2$\n",
    "\n",
    "$L = \\frac{1}{2} = 0,5$\n",
    "\n",
    "$\\frac{R}{L} = 1,26$\n",
    "\n",
    "$R = 1,26 . 0,5 = 0,63$"
   ]
  },
  {
   "cell_type": "code",
   "execution_count": 4,
   "metadata": {},
   "outputs": [
    {
     "name": "stdout",
     "output_type": "stream",
     "text": [
      "Etapa 1: R = 849.2\n",
      "Etapa 1: C = 7.535745411548075e-09\n",
      "Etapa 2: R = 531.3\n",
      "Etapa 2: L = 0.038296658181487316\n",
      "Etapa 2: C = 7.535745411548075e-09\n",
      "Etapa 3: R = 1386.0\n",
      "Etapa 3: L = 0.018236503895946343\n",
      "Etapa 3: C = 7.535745411548075e-09\n"
     ]
    }
   ],
   "source": [
    "fp = 9600\n",
    "Ww = 2*np.pi*fp\n",
    "Wz = 2200\n",
    "\n",
    "R1_n = 0.386\n",
    "C1_n = 1\n",
    "R2_n = 0.2415\n",
    "L2_n = 1.05\n",
    "C2_n = 1\n",
    "R3_n = 0.63\n",
    "L3_n = 0.5\n",
    "C3_n = 1\n",
    "\n",
    "R1_dn = R1_n * Wz\n",
    "C1_dn = C1_n / (Ww * Wz)\n",
    "R2_dn = R2_n * Wz\n",
    "L2_dn = (L2_n * Wz) / Ww\n",
    "C2_dn = C2_n / (Ww * Wz)\n",
    "R3_dn = R3_n * Wz\n",
    "L3_dn = (L3_n * Wz) / Ww\n",
    "C3_dn = C3_n / (Ww * Wz)\n",
    "\n",
    "print(f'Etapa 1: R = {R1_dn}')\n",
    "print(f'Etapa 1: C = {C1_dn}')\n",
    "print(f'Etapa 2: R = {R2_dn}')\n",
    "print(f'Etapa 2: L = {L2_dn}')\n",
    "print(f'Etapa 2: C = {C2_dn}')\n",
    "print(f'Etapa 3: R = {R3_dn}')\n",
    "print(f'Etapa 3: L = {L3_dn}')\n",
    "print(f'Etapa 3: C = {C3_dn}')"
   ]
  },
  {
   "cell_type": "markdown",
   "metadata": {},
   "source": [
    "## Simulación\n",
    "\n",
    "### Circuito Pasivo\n",
    "\n",
    "![Circuito](img/ej5_circuito_desnormalizado.JPG)\n",
    "\n",
    "![Transferencia](img/ej5_transferencia_desnormalizada.JPG)\n",
    "\n",
    "![Cursores](img/ej5_transferencia_cursores.JPG)\n",
    "\n",
    "### Circuito Activado\n",
    "\n",
    "![Circuito_activado](img/ej5_circuito_activado.JPG)\n",
    "\n",
    "![Transferencia_activada](img/ej5_transferencia_activada.JPG)\n",
    "\n",
    "![Cursores_activado](img/ej5_transferencia_activada_cursores.JPG)"
   ]
  }
 ],
 "metadata": {
  "interpreter": {
   "hash": "6ca364f2759a5aafb09686aa9324eacc5d501526362630bb6a990b46351437c4"
  },
  "kernelspec": {
   "display_name": "Python 3.9.7 ('base')",
   "language": "python",
   "name": "python3"
  },
  "language_info": {
   "codemirror_mode": {
    "name": "ipython",
    "version": 3
   },
   "file_extension": ".py",
   "mimetype": "text/x-python",
   "name": "python",
   "nbconvert_exporter": "python",
   "pygments_lexer": "ipython3",
   "version": "3.9.7"
  },
  "orig_nbformat": 4
 },
 "nbformat": 4,
 "nbformat_minor": 2
}
