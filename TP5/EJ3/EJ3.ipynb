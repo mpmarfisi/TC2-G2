{
 "cells": [
  {
   "cell_type": "markdown",
   "id": "b61a6b95-2951-4c7e-816a-b31b076d1239",
   "metadata": {},
   "source": [
    "<img src=\"logo_UTN.svg\" align=\"right\" width=\"150\" /> \n",
    "\n",
    "## Teoría de Circuitos II\n",
    "\n",
    "### Ejercicio 3 TP5\n",
    "\n",
    "#### Por Matías Marfisi\n"
   ]
  },
  {
   "cell_type": "markdown",
   "id": "d7e5e9b7-3d35-4ace-bb9a-22364264b042",
   "metadata": {
    "tags": []
   },
   "source": [
    "# Consigna"
   ]
  },
  {
   "cell_type": "markdown",
   "id": "b83c3756-a761-44c2-b2f3-6a458da24d2c",
   "metadata": {},
   "source": [
    "![Consigna](Consigna1.png \"Consigna\")"
   ]
  },
  {
   "cell_type": "markdown",
   "id": "55af8f88-854d-4c79-b14c-4076f3fd8543",
   "metadata": {},
   "source": [
    "![Consigna](Consigna2.png \"Consigna\")"
   ]
  },
  {
   "cell_type": "markdown",
   "id": "cee7f3f3-61cd-4604-a6a5-65e461163513",
   "metadata": {
    "tags": []
   },
   "source": [
    "## Desarrollo"
   ]
  },
  {
   "cell_type": "markdown",
   "id": "6aec79ea-7aee-4025-b913-08ae0047dd29",
   "metadata": {},
   "source": [
    "![1](Desarrollo/1.jpeg \"1\")"
   ]
  },
  {
   "cell_type": "markdown",
   "id": "cc6a077e-a737-4dde-aaf9-5fdd46519c25",
   "metadata": {},
   "source": [
    "Para que la salida represente la media aritmética, debería dividirse cada muestra de salida por el total de muestras de la entrada utilizadas para el promedio. Y como el filtro de media móvil tiene una naturaleza pasabajos, elimina completamente la frecuencia en pi o fs/2, por lo que si quiero eliminar la frecuencia de linea de 50Hz debería colocar 100 Hz de Fs."
   ]
  },
  {
   "cell_type": "markdown",
   "id": "9672ddab-27ef-4a7e-8fbf-c22232f43909",
   "metadata": {},
   "source": [
    "![2](Desarrollo/2.jpeg \"2\")"
   ]
  },
  {
   "cell_type": "markdown",
   "id": "4982817c-3760-4b55-a256-3b7353ad0d0b",
   "metadata": {},
   "source": [
    "Ambos sistemas introducen una demora de media muestra, esto no es deseado ya que genera una incertidumbre sobre la muestra siguiente, pudiendo ser 1 muestra o ninguna. La respuesta de módulo de un derivador es una función lineal, por lo que consideraremos las funciones dadas ideales hasta cierta frecuencia con la tolerancia presentada. El segundo sistema se comporta como un derivador ideal hasta Omega = 0.5515, pero presenta la ventaja de atenuar las altas frecuencias, disminuyendo así en una señal de baja frecuencia la inferencia del ruido en la diferencia. El primer sistema, deja pasar más facilmente las muestras de alta frecuencia que en el rango que se comporta como un derivador (parte lineal)."
   ]
  }
 ],
 "metadata": {
  "kernelspec": {
   "display_name": "Python 3 (ipykernel)",
   "language": "python",
   "name": "python3"
  },
  "language_info": {
   "codemirror_mode": {
    "name": "ipython",
    "version": 3
   },
   "file_extension": ".py",
   "mimetype": "text/x-python",
   "name": "python",
   "nbconvert_exporter": "python",
   "pygments_lexer": "ipython3",
   "version": "3.9.7"
  }
 },
 "nbformat": 4,
 "nbformat_minor": 5
}
