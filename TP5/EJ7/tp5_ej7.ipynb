{
 "cells": [
  {
   "cell_type": "markdown",
   "metadata": {},
   "source": [
    "# TP5 - Ejercicio 7\n",
    "\n",
    "Obtenga la expresión $H(z)$ de los siguientes sistemas. Indique de qué tipo de filtros se trata.\n",
    "\n",
    "![consigna](img/ej7_consigna.JPG)\n"
   ]
  },
  {
   "cell_type": "markdown",
   "metadata": {},
   "source": [
    "### a)\n",
    "\n",
    "$Y(z) = X(z) . a_0 + X(z) . z^{-1} . a_1 + X(z) . z^{-2} . a_2 - Y(z) . z^{-1} . b_1 - Y(z) . z^{-2} . b_2$\n",
    "\n",
    "$Y(z) . (z^{-2} . b_2 + z^{-1} . b_1 + 1) = X(z) . (z^{-2} . a_2 + z^{-1} . a_1 + a_0)$\n",
    "\n",
    "$T(z) = \\frac{Y(z)}{X(z)} = \\frac{z^{-2} . a_2 + z^{-1} . a_1 + a_0}{z^{-2} . b_2 + z^{-1} . b_1 + 1}$\n",
    "\n",
    "Este es un filtro IIR ya que depende tanto de valores de la entrada (actuales y previos) como de valores previos de la salida."
   ]
  },
  {
   "cell_type": "markdown",
   "metadata": {},
   "source": [
    "### b)\n",
    "\n",
    "$Y(z) = X_1(z) . a_0 + X_1(z) . z^{-1} . a_1 + X_1(z) . z^{-2} . a_2$\n",
    "\n",
    "Donde:\n",
    "\n",
    "$X_1(z) = X(z) - X_1(z) . z^{-1} . b_1 - X_1(z) . z^{-2}  . b_2$\n",
    "\n",
    "$X_1(z) . (z^{-2}  . b_2 + z^{-1} . b_1 + 1) = X(z)$\n",
    "\n",
    "$X_1(z) = X(z) . \\frac{1}{z^{-2}  . b_2 + z^{-1} . b_1 + 1}$\n",
    "\n",
    "Entonces:\n",
    "\n",
    "$Y(z) =  X_1(z) . (z^{-2} . a_2 + z^{-1} . a_1 + a_0)$\n",
    "\n",
    "$Y(z) =  X(z) . \\frac{1}{z^{-2}  . b_2 + z^{-1} . b_1 + 1} . (z^{-2} . a_2 + z^{-1} . a_1 + a_0)$\n",
    "\n",
    "$H(z) = \\frac{Y(z)}{X(z)} = \\frac{z^{-2} . a_2 + z^{-1} . a_1 + a_0}{z^{-2}  . b_2 + z^{-1} . b_1 + 1}$\n",
    "\n",
    "Este es un filtro FIR ya que depende únicamente de valores actuales y previos de la entrada.\n"
   ]
  },
  {
   "cell_type": "markdown",
   "metadata": {},
   "source": [
    "### c)\n",
    "\n",
    "$X_1(z) = z^{-1} . (X(z) . a_2 - Y(z) . b_2) = X(z) . z^{-1} . a_2 - Y(z) . z^{-1} . b_2$\n",
    "\n",
    "$X_2(z) = z^{-1} . (X_1(z) + X(z) . a_1 - Y(z) . b_1) = X_1(z) . z^{-1} + X(z) . z^{-1} . a_1 - Y(z) . z^{-1} . b_1$\n",
    "\n",
    "$X_2(z) = X(z) . z^{-2} . a_2 - Y(z) . z^{-2} . b_2 + X(z) . z^{-1} . a_1 - Y(z) . z^{-1} . b_1$\n",
    "\n",
    "Finalmente:\n",
    "\n",
    "$Y(z) = X(z) . a_0 + X_2(z) = X(z) . a_0 + X(z) . z^{-2} . a_2 - Y(z) . z^{-2} . b_2 + X(z) . z^{-1} . a_1 - Y(z) . z^{-1} . b_1$\n",
    "\n",
    "Nuevamente la transferencia queda como:\n",
    "\n",
    "$H(z) = \\frac{Y(z)}{X(z)} = \\frac{z^{-2} . a_2 + z^{-1} . a_1 + a_0}{z^{-2}  . b_2 + z^{-1} . b_1 + 1}$\n",
    "\n",
    "Este filtro también es de tipo IIR ya que depende de valores actuales y previos de la entrada y valores previos de la salida."
   ]
  }
 ],
 "metadata": {
  "language_info": {
   "name": "python"
  },
  "orig_nbformat": 4
 },
 "nbformat": 4,
 "nbformat_minor": 2
}
