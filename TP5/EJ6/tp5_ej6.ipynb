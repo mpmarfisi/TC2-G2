{
 "cells": [
  {
   "cell_type": "markdown",
   "metadata": {},
   "source": [
    "# TP5 - Ejercicio 6\n",
    "\n",
    "Considerando la siguiente ecuación en diferencias de un sistema discreto:\n",
    "\n",
    "$y[n] = 2. y[n − 1] − 1, 81. y[n − 2] + 0, 68. y[n − 3] + x[n] + 3. x[n − 1] + 3. x[n − 2] + x[n − 3]$\n",
    "\n",
    "Se pide hallar:\n",
    "\n",
    "1. La expresión de la función transferencia $H(z)$\n",
    "2. Módulo y fase de $H(e^{j\\omega})$\n",
    "3. La secuencia de salida $y[n]$ cuando el sistema es excitado con la siguiente señal:\n",
    "\n",
    "$x(t) = 10+5.cos(2\\pi.2000.t-60º) + 20.sen(2\\pi.8000.t+30º)$"
   ]
  },
  {
   "cell_type": "markdown",
   "metadata": {},
   "source": [
    "### Resolución\n",
    "\n",
    "1) Función transferencia\n",
    "\n",
    "$y[n] = 2. y[n − 1] − 1, 81. y[n − 2] + 0, 68. y[n − 3] + x[n] + 3. x[n − 1] + 3. x[n − 2] + x[n − 3]$\n",
    "\n",
    "$Y(z) = 2. Y(z).z^{-1} − 1, 81. Y(z).z^{-2} + 0, 68. Y(z).z^{-3} + X(z) + 3. X(z).z^{-1} + 3. X(z).z^{-2} + X(z).z^{-3}$\n",
    "\n",
    "$Y(z) - 2.Y(z).z^{-1} + 1,81.Y(z).z^{-2} - 0,68.Y(z).z^{-3} = X(z) + 3.X(z).z^{-1} + 3.X(z).z^{-2} + X(z).z^{-3}$\n",
    "\n",
    "$Y(z).(1 - 2.z^{-1} + 1,81.z^{-2} - 0,68.z^{-3}) = X(z).(1 + 3.z^{-1} + 3.z^{-2} + z^{-3})$\n",
    "\n",
    "$Y(z). \\frac{z^3- 2.z^2 + 1,81.z - 0,68}{z^3} = X(z).\\frac{z^3 + 3.z^2 + 3.z + 1}{z^3}$\n",
    "\n",
    "$Y(z).(z^3- 2.z^2 + 1,81.z - 0,68) = X(z).(z^3 + 3.z^2 + 3.z + 1)$\n",
    "\n",
    "$H(z) = \\frac{Y(z)}{X(z)} = \\frac{z^3 + 3.z^2 + 3.z + 1}{z^3- 2.z^2 + 1,81.z - 0,68}$"
   ]
  },
  {
   "cell_type": "markdown",
   "metadata": {},
   "source": [
    "2) Módulo y fase\n",
    "\n",
    "$H(e^{j\\omega}) = \\frac{(e^{j\\omega})^3 + 3.(e^{j\\omega})^2 + 3.e^{j\\omega} + 1}{(e^{j\\omega})^3- 2.(e^{j\\omega})^2 + 1,81.e^{j\\omega} - 0,68}$\n"
   ]
  },
  {
   "cell_type": "markdown",
   "metadata": {},
   "source": [
    "$H(e^{j\\omega}) = \\frac{e^{j3\\omega} + 3.e^{j2\\omega} + 3.e^{j\\omega} + 1}{e^{j3\\omega}- 2.e^{j2\\omega} + 1,81.e^{j\\omega} - 0,68}$"
   ]
  }
 ],
 "metadata": {
  "kernelspec": {
   "display_name": "Python 3.9.7 ('base')",
   "language": "python",
   "name": "python3"
  },
  "language_info": {
   "name": "python",
   "version": "3.9.7"
  },
  "orig_nbformat": 4,
  "vscode": {
   "interpreter": {
    "hash": "6ca364f2759a5aafb09686aa9324eacc5d501526362630bb6a990b46351437c4"
   }
  }
 },
 "nbformat": 4,
 "nbformat_minor": 2
}
