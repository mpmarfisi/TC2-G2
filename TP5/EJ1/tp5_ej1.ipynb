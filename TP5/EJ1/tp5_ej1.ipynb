{
 "cells": [
  {
   "cell_type": "markdown",
   "metadata": {},
   "source": [
    "# TP5 - Ejercicio 1\n",
    "\n",
    "Se desea digitalizar una señal cuyo espectro se muestra a continuación, trazado en azul.\n",
    "\n",
    "![ej1_consigna](img/ej1_consigna.JPG)\n",
    "\n",
    "El rango de frecuencias de interés se centra entre DC y $10 kHz$, mientras que las frecuencias superiores a esta no aportan información.\n",
    "\n",
    "Se sabe que el sistema digital introduce un ruido de densidad espectral constante, que se encuentra en $60 dB$ por debajo del nivel máximo de la señal.\n",
    "\n",
    "Este ruido es consecuencia de los errores de cuantificación y del ruido propio de la electrónica del conversor, y no puede ser eliminado. El mismo está representado en el trazo rojo.\n",
    "\n",
    "A partir de lo anterior, se pide:\n",
    "\n",
    "A) Definir un valor para la frecuencia de muestreo $f_s$ del ADC, justificando su respuesta.\n",
    "\n",
    "B) Diseñar un filtro analógico pasa bajo anti alias, esto es, que atenúe las componentes frecuenciales ubicadas por encima de la frecuencia de Nyquist, para evitar efecto alias. Explicar el criterio utilizado para fijar la atenuación en la banda detenida.\n",
    "\n",
    "C) Repetir el punto b), pero eligiendo una $f_s$ diez veces más grande a la elegida en a). Comparar ambos filtros anti alias y evaluar las ventajas/desventajas de esta modificación.\n",
    "\n",
    "D) Repetir el punto b), pero considerando que se requiere una fase aprox. lineal hasta $10 kHz$.\n"
   ]
  },
  {
   "cell_type": "markdown",
   "metadata": {},
   "source": [
    "## Resolución\n",
    "\n",
    "A) Para poder evitar el efecto del aliasing, deberíamos elegir una frecuencia de muestreo que sea al menos 2 veces mayor que la máxima frecuencia de interés. Considerando que nuestro rango de interés llega hasta los $10 KHz$, deberíamos elegir:\n",
    "\n",
    "$f_s \\geq 2 . f_{max}$\n",
    "\n",
    "$f_s \\geq 20KHz$\n",
    "\n",
    "Seleccionamos una $f_s = 30KHz$ para tener un margen en el sistema y no estar en la condición crítica.\n",
    "\n",
    "B) La señal que se quiere digitalizar, en $f=10KHz$ se encuentra $40dB$ por debajo de su valor de potencia máximo. Considerando que el piso de ruido digital se encuentra en $-60dB$, deberíamos diseñar un filtro que tenga una atenuación mínima de $20dB$ para todas las frecuencias superiores a $f_{nyq} = \\frac{f_s}{2} = 15KHz$.\n",
    "\n",
    "Teniendo esto en consideración podemos plantear la siguiente plantilla:\n",
    "\n",
    "<div><img src=\"img/ej1_plantilla_desnormalizada.jpeg\" width=\"500\"/></div>\n",
    "\n",
    "Al normalizarla queda:\n",
    "\n",
    "<div><img src=\"img/ej1_plantilla_normalizada.jpeg\" width=\"500\"/></div>\n",
    "\n",
    "Se puede preveer que requeriremos un rolloff \"rápido\", por lo cual planteamos una aproximación de Chebyshev:\n",
    "\n",
    "$|T(j\\omega)| = \\frac{1}{1+\\varepsilon^2.C_n^2}$\n",
    "\n",
    "Utilizamos python para averiguar $\\varepsilon$ y el orden $n$ del filtro."
   ]
  },
  {
   "cell_type": "code",
   "execution_count": 2,
   "metadata": {},
   "outputs": [
    {
     "name": "stdout",
     "output_type": "stream",
     "text": [
      "ee: 0.2589254117941673\n",
      "alpha(n = 1) = 1.993662702785931\n",
      "alpha(n = 2) = 6.203272580959268\n",
      "alpha(n = 3) = 13.418885326100998\n",
      "alpha(n = 4) = 21.583370328355812\n",
      "alpha(n = 5) = 29.913681459660868\n"
     ]
    }
   ],
   "source": [
    "import numpy as np\n",
    "\n",
    "ws = 1.5\n",
    "ee = 10**(1/10)-1\n",
    "print(f'ee: {ee}')\n",
    "\n",
    "for n in range(1,6):\n",
    "    Cn = np.cosh(n*np.arccosh(ws))\n",
    "    alpha = 10*np.log10(1+ee*Cn**2)\n",
    "    print(f'alpha(n = {n}) = {alpha}')\n"
   ]
  },
  {
   "cell_type": "markdown",
   "metadata": {},
   "source": [
    "A partir de $n=4$ se cumple con el requerimiento de atenuación mínima, por lo que nos quedamos con este orden.\n",
    "\n",
    "La función de aproximación queda:\n",
    "\n",
    "$|T(j\\omega)|^2 = \\frac{1}{1+\\varepsilon^2.C_4^2}$\n",
    "\n",
    "Donde $C_4$ tiene la forma:\n",
    "\n",
    "$C_4 = 8.\\omega^4-8.\\omega^2+1$\n",
    "\n",
    "$|T(j\\omega)|^2 = \\frac{1}{1+\\varepsilon^2.(8.\\omega^4-8.\\omega^2+1)^2}$\n",
    "\n",
    "$|T(j\\omega)|^2 = \\frac{1}{1+\\varepsilon^2.(64.\\omega^8-128.\\omega^6+80.\\omega^4-16.\\omega^2+1)}$\n",
    "\n",
    "$|T(s)|^2 = \\frac{1}{1+\\varepsilon^2.(64.s^8+128.s^6+80.s^4+16.s^2+1)}$\n",
    "\n",
    "$|T(s)|^2 = \\frac{1}{\\varepsilon^2.64.s^8+\\varepsilon^2.128.s^6+\\varepsilon^2.80.s^4+\\varepsilon^2.16.s^2+(\\varepsilon^2+1)}$\n",
    "\n",
    "Utilizamos python para hallar los polos."
   ]
  },
  {
   "cell_type": "code",
   "execution_count": 3,
   "metadata": {},
   "outputs": [
    {
     "name": "stdout",
     "output_type": "stream",
     "text": [
      "(-0.1395359959054355+0.9833791644951989j)\n",
      "(-0.1395359959054355-0.9833791644951989j)\n",
      "(-0.3368696937541342+0.4073289868890343j)\n",
      "(-0.3368696937541342-0.4073289868890343j)\n"
     ]
    }
   ],
   "source": [
    "den = [ee*64, ee*0, ee*128, ee*0, ee*80, ee*0, ee*16, ee*0, ee+1]\n",
    "\n",
    "raices = np.roots(den)\n",
    "\n",
    "for raiz in raices:\n",
    "    if np.real(raiz) < 0:\n",
    "        print(raiz)"
   ]
  },
  {
   "cell_type": "markdown",
   "metadata": {},
   "source": [
    "Una vez obtenidos los polos, se puede plantear la transferencia del filtro como 2 secciones de 2do orden:\n",
    "\n",
    "$T(s) = \\frac{1}{s^2+s.0,279+0,9863} . \\frac{1}{s^2+s.0,6736+0,2793} . \\frac{1}{\\sqrt{\\varepsilon^2.64}}$"
   ]
  },
  {
   "cell_type": "code",
   "execution_count": 4,
   "metadata": {},
   "outputs": [],
   "source": [
    "import matplotlib.pyplot as plt\n",
    "import scipy.signal as sig\n",
    "from splane import analyze_sys\n",
    "\n",
    "num = [0.2456]\n",
    "den = [1, 0.9526, 1.4535, 0.7422, 0.2754]\n",
    "%matplotlib qt\n",
    "transfer_f = sig.TransferFunction(num, den)\n",
    "\n",
    "plt.close('all')\n",
    "analyze_sys(transfer_f, 'Transferencia')"
   ]
  },
  {
   "cell_type": "markdown",
   "metadata": {},
   "source": [
    "Estas secciones de 2do orden se pueden implementar con el siguiente circuito:\n",
    "\n",
    "![circuito](img/ej1_circuito.JPG)\n",
    "\n",
    "Al simularlo, podemos verificar la transferencia:\n",
    "\n",
    "![transferencia](img/ej1_transferencia.JPG)\n",
    "\n",
    "![cursores](img/ej1_cursores.JPG)"
   ]
  },
  {
   "cell_type": "markdown",
   "metadata": {},
   "source": [
    "Se puede apreciar que cerca de la frecuencia máxima de interés ($10KHz$) tiene una atenuación de prácticamente $1dB$ y para frecuencias mayores a la frecuencia de Nyquist ($15KHz$) la atenuación supera los $20dB$."
   ]
  },
  {
   "cell_type": "code",
   "execution_count": 5,
   "metadata": {},
   "outputs": [
    {
     "name": "stdout",
     "output_type": "stream",
     "text": [
      "C1a_dn: 8.065972515897255e-08\n",
      "C1b_dn: 4.766690545602265e-09\n",
      "R1_dn: 1000\n",
      "L1_dn: 0.05704431470299713\n",
      "C2a_dn: 6.877085091000797e-07\n",
      "C2b_dn: 4.064658091623915e-08\n",
      "R2_dn: 1000\n",
      "L2_dn: 0.023626551301991865\n"
     ]
    }
   ],
   "source": [
    "# Desnormalización de los componentes\n",
    "\n",
    "Wz = 1000\n",
    "Ww = 2*np.pi*10000\n",
    "\n",
    "C1a_n = 5.068\n",
    "C1b_n = 0.2995\n",
    "R1_n = 1\n",
    "L1_n = 3.5842\n",
    "C2a_n = 43.21\n",
    "C2b_n = 2.5539\n",
    "R2_n = 1\n",
    "L2_n = 1.4845\n",
    "\n",
    "C1a_dn = C1a_n / (Ww*Wz)\n",
    "C1b_dn = C1b_n / (Ww*Wz)\n",
    "R1_dn = R1_n * Wz\n",
    "L1_dn = L1_n * Wz / Ww\n",
    "C2a_dn = C2a_n / (Ww*Wz)\n",
    "C2b_dn = C2b_n / (Ww*Wz)\n",
    "R2_dn = R2_n * Wz\n",
    "L2_dn = L2_n * Wz / Ww\n",
    "\n",
    "print(f'C1a_dn: {C1a_dn}')\n",
    "print(f'C1b_dn: {C1b_dn}')\n",
    "print(f'R1_dn: {R1_dn}')\n",
    "print(f'L1_dn: {L1_dn}')\n",
    "print(f'C2a_dn: {C2a_dn}')\n",
    "print(f'C2b_dn: {C2b_dn}')\n",
    "print(f'R2_dn: {R2_dn}')\n",
    "print(f'L2_dn: {L2_dn}')\n"
   ]
  },
  {
   "cell_type": "markdown",
   "metadata": {},
   "source": [
    "C) Al elegir una frecuencia de sampling 10 veces mayor, nos quedaría que: $f_s=300KHz$ y $f_{nyq} = 150KHz$\n",
    "\n",
    "Por lo tanto, en la plantilla normalizada, la $\\omega_s$ se hallaría en $15$"
   ]
  },
  {
   "cell_type": "code",
   "execution_count": 7,
   "metadata": {},
   "outputs": [
    {
     "name": "stdout",
     "output_type": "stream",
     "text": [
      "ee: 0.2589254117941673\n",
      "alpha(n = 1) = 17.72748584794907\n",
      "alpha(n = 2) = 47.176756774247565\n",
      "alpha(n = 3) = 76.70942089084363\n"
     ]
    }
   ],
   "source": [
    "ws = 15\n",
    "ee = 10**(1/10)-1\n",
    "print(f'ee: {ee}')\n",
    "\n",
    "for n in range(1,4):\n",
    "    Cn = np.cosh(n*np.arccosh(ws))\n",
    "    alpha = 10*np.log10(1+ee*Cn**2)\n",
    "    print(f'alpha(n = {n}) = {alpha}')"
   ]
  },
  {
   "cell_type": "markdown",
   "metadata": {},
   "source": [
    "Ahora basta con un orden 2 para cumplir con el requerimiento de $\\alpha_{min}$ en $\\omega_s$\n",
    "\n",
    "La función de aproximación queda:\n",
    "\n",
    "$|T(j\\omega)|^2 = \\frac{1}{1+\\varepsilon^2.C_2^2}$\n",
    "\n",
    "Donde $C_2$ tiene la forma:\n",
    "\n",
    "$C_ = 2.\\omega^2-1$\n",
    "\n",
    "$|T(j\\omega)|^2 = \\frac{1}{1+\\varepsilon^2.(2.\\omega^2-1)^2}$\n",
    "\n",
    "$|T(j\\omega)|^2 = \\frac{1}{1+\\varepsilon^2.(4.\\omega^4-4.\\omega^2+1)}$\n",
    "\n",
    "$|T(s)|^2 = \\frac{1}{1+\\varepsilon^2.(4.s^4+4.s^2+1)}$\n",
    "\n",
    "$|T(s)|^2 = \\frac{1}{\\varepsilon^2.4.s^4+\\varepsilon^2.4.s^2+(1+\\varepsilon^2.)}$\n",
    "\n",
    "Utilizamos Python para hallar los polos:"
   ]
  },
  {
   "cell_type": "code",
   "execution_count": 9,
   "metadata": {},
   "outputs": [
    {
     "name": "stdout",
     "output_type": "stream",
     "text": [
      "(-0.5488671642819637+0.8951285740199127j)\n",
      "(-0.5488671642819637-0.8951285740199127j)\n"
     ]
    }
   ],
   "source": [
    "den = [ee*4, 0, ee*4, 0, (1+ee)]\n",
    "\n",
    "raices = np.roots(den)\n",
    "\n",
    "for raiz in raices:\n",
    "    if np.real(raiz) < 0:\n",
    "        print(raiz)"
   ]
  },
  {
   "cell_type": "markdown",
   "metadata": {},
   "source": [
    "Una vez obtenidos los polos, se puede plantear la transferencia del filtro:\n",
    "\n",
    "$T(s) = \\frac{1}{s^2+s.1,0976+1.1023}.\\frac{1}{\\sqrt{\\varepsilon^2.4}}$"
   ]
  },
  {
   "cell_type": "code",
   "execution_count": 10,
   "metadata": {},
   "outputs": [],
   "source": [
    "num = [0.9826]\n",
    "den = [1, 1.0976, 1.1023]\n",
    "%matplotlib qt\n",
    "transfer_f = sig.TransferFunction(num, den)\n",
    "\n",
    "plt.close('all')\n",
    "analyze_sys(transfer_f, 'Transferencia')"
   ]
  },
  {
   "cell_type": "markdown",
   "metadata": {},
   "source": [
    "Este sistema de segundo orden puede implementarse con el siguiente circuito:\n",
    "\n",
    "![circuito_2](img/ej1_circuito_2.JPG)\n",
    "\n",
    "Que presenta la siguiente transferencia:\n",
    "\n",
    "![transferencia_2](img/ej1_transferencia_2.JPG)\n",
    "\n",
    "![cursores_2](img/ej1_cursores_2.JPG)\n",
    "\n",
    "Se puede observar que los $20dB$ de atenuación no se encuentran en $f_{nyq}$, pero tampoco están tan cerca de la frecuencia máxima de interés como en el caso anterior.\n",
    "\n",
    "La principal ventaja de este filtro es que es más simple que el anterior ya que es de menor orden. La desventaja que presenta tiene que ver con que cualquier valor de la señal que exista entre $10KHz$ y $33.65KHz$ donde se encuentra la atenuación de $20dB$ interferirá con nuestra señal ya que no estará del todo atenuada."
   ]
  },
  {
   "cell_type": "code",
   "execution_count": 11,
   "metadata": {},
   "outputs": [
    {
     "name": "stdout",
     "output_type": "stream",
     "text": [
      "R_dn: 1000\n",
      "L_dn: 0.014499015315671665\n",
      "Ca_dn: 9.106845843718251e-07\n",
      "Cb_dn: 1.6127170383501754e-08\n"
     ]
    }
   ],
   "source": [
    "# Desnormalización de los componentes\n",
    "\n",
    "Wz = 1000\n",
    "Ww = 2*np.pi*10000\n",
    "\n",
    "R_n = 1\n",
    "L_n = 0.911\n",
    "Ca_n = 57.22\n",
    "Cb_n = 1.0133\n",
    "\n",
    "R_dn = R_n * Wz\n",
    "L_dn = (L_n * Wz) / Ww\n",
    "Ca_dn = Ca_n / (Wz * Ww)\n",
    "Cb_dn = Cb_n / (Wz * Ww)\n",
    "\n",
    "print(f'R_dn: {R_dn}')\n",
    "print(f'L_dn: {L_dn}')\n",
    "print(f'Ca_dn: {Ca_dn}')\n",
    "print(f'Cb_dn: {Cb_dn}')"
   ]
  }
 ],
 "metadata": {
  "kernelspec": {
   "display_name": "Python 3.9.7 ('base')",
   "language": "python",
   "name": "python3"
  },
  "language_info": {
   "codemirror_mode": {
    "name": "ipython",
    "version": 3
   },
   "file_extension": ".py",
   "mimetype": "text/x-python",
   "name": "python",
   "nbconvert_exporter": "python",
   "pygments_lexer": "ipython3",
   "version": "3.9.7"
  },
  "orig_nbformat": 4,
  "vscode": {
   "interpreter": {
    "hash": "6ca364f2759a5aafb09686aa9324eacc5d501526362630bb6a990b46351437c4"
   }
  }
 },
 "nbformat": 4,
 "nbformat_minor": 2
}
