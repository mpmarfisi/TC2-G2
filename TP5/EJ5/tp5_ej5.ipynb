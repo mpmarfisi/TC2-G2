{
 "cells": [
  {
   "cell_type": "markdown",
   "metadata": {},
   "source": [
    "# TP5 - Ejercicio 5\n",
    "\n",
    "Dado el sistema discreto:\n",
    "\n",
    "$H(z) = \\frac{z}{z-0,8}$\n",
    "\n",
    "Determinar la expresión de $y[n]$ al excitarlo con una señal:\n",
    "\n",
    "$x[n] = 20 . cos(\\frac{\\pi.n}{2}+30º)$"
   ]
  },
  {
   "cell_type": "markdown",
   "metadata": {},
   "source": [
    "### Resolución\n",
    "\n",
    "Partiendo de la tabla de transformadas Z:\n",
    "\n",
    "$\\frac{1}{1+a.z^{-1}} \\to a^n.u(n)$\n",
    "\n",
    "Siendo $u(n)$ la función escalón unitario.\n",
    "\n",
    "Por lo tanto:\n",
    "\n",
    "$H(z) =\\frac{z}{z-0,8} = \\frac{1}{1+0,8.z^{-1}} \\to h[n] = 0,8^n.u(n)$\n",
    "\n",
    "Finalmente:\n",
    "\n",
    "$h[n] = \\frac{y[n]}{x[n]}$\n",
    "\n",
    "$y[n] = x[n].h[n]$\n",
    "\n",
    "$y[n] = 20 . cos(\\frac{\\pi.n}{2}+30º) . 0,8^n.u(n)$"
   ]
  }
 ],
 "metadata": {
  "kernelspec": {
   "display_name": "Python 3.9.7 ('base')",
   "language": "python",
   "name": "python3"
  },
  "language_info": {
   "name": "python",
   "version": "3.9.7"
  },
  "orig_nbformat": 4,
  "vscode": {
   "interpreter": {
    "hash": "6ca364f2759a5aafb09686aa9324eacc5d501526362630bb6a990b46351437c4"
   }
  }
 },
 "nbformat": 4,
 "nbformat_minor": 2
}
