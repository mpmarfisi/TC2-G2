{
 "cells": [
  {
   "cell_type": "markdown",
   "metadata": {},
   "source": [
    "# TP1 - Ejercicio 6\n",
    "\n",
    "## Consignas\n",
    "Para el siguiente dipolo activo determinar la impedancia de excitación.\n",
    "* Indique/proponga aplicaciones para esta red.\n",
    "* Investigue sobre la posibilidad de obtener el mismo comportamiento utilizando\n",
    "OTA (Ver Cap. 16.2 Schaumann)."
   ]
  },
  {
   "cell_type": "markdown",
   "metadata": {},
   "source": [
    "## Resolución\n",
    "\n",
    "![Circuito](img/ej6.JPG)\n",
    "\n",
    "Planteamos el siguiente sistema de ecuaciones:\n",
    "\n",
    "$(1) I_1 = \\frac{V_i - V_o}{R_1}$\n",
    "\n",
    "$(2) \\frac{V_i - V_o}{R_2} + \\frac{V_i - 0}{Z_L} = 0$\n",
    "\n",
    "Partiendo de (2):\n",
    "\n",
    "$\\frac{V_i}{R_2} - \\frac{V_o}{R_2} + \\frac{V_i}{Z_L} = 0$\n",
    "\n",
    "$V_i . (\\frac{1}{R_2} + \\frac{1}{Z_L}) = \\frac{V_o}{R_2}$\n",
    "\n",
    "$V_i . \\frac{R_2 + Z_L}{R_2 . Z_L} = \\frac{V_o}{R_2}$\n",
    "\n",
    "$(3) V_i . \\frac{R_2 + Z_L}{Z_L} = V_o$\n",
    "\n",
    "Reemplazando (3) en (1):\n",
    "\n",
    "$I_1 . R_1 = V_i - V_i . \\frac{R_2 + Z_L}{Z_L}$\n",
    "\n",
    "$I_1 . R_1 = V_i . (1 - \\frac{R_2 + Z_L}{Z_L})$\n",
    "\n",
    "$I_1 . R_1 = V_i . \\frac{Z_L - R_2 - Z_L}{Z_L}$\n",
    "\n",
    "$I_1 . R_1 = - V_i . \\frac{R_2}{Z_L}$\n",
    "\n",
    "Finalmente:\n",
    "\n",
    "$Z_{in} = \\frac{V_i}{I_1} = -\\frac{R_1}{R_2} . Z_L$\n",
    "\n",
    "Este tipo de Red nos permite presentar como impedancia de entrada una impedancia negativa en función del valor de la carga y un factor determinado por las resistencias de la Red.\n",
    "\n",
    "### Implementación con OTA\n",
    "\n",
    "![Circuito con OTA](img/ej6_ota.jpeg)\n",
    "\n",
    "Al conectar un OTA en modo fuente y realimentar sobre la entrada no inversora, el resultado es que la impedancia que se ve en la entrada es de signo negativo y queda en función del valor de gm."
   ]
  }
 ],
 "metadata": {
  "language_info": {
   "name": "python"
  },
  "orig_nbformat": 4
 },
 "nbformat": 4,
 "nbformat_minor": 2
}
