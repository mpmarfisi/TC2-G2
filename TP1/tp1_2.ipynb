{
 "cells": [
  {
   "cell_type": "markdown",
   "metadata": {},
   "source": [
    "# TP1 - Ejercicio 2\n",
    "\n",
    "## Consignas\n",
    "Amplificador con **salida diferencial**. Obtener la expresión de $V_{AB}$. Utilizar el valor de $R_A = R . \\frac{k-1}{2}$."
   ]
  },
  {
   "cell_type": "markdown",
   "metadata": {},
   "source": [
    "## Resolusión\n",
    "\n",
    "![Circuito](img/ej2.JPG)\n",
    "\n",
    "Planteamos el siguiente sistema de ecuaciones:\n",
    "\n",
    "$(1) (V_i-V_A) . \\frac{1}{R_A} + (V_i-V_X) . \\frac{1}{R} + (V_i-0) . \\frac{1}{R} = 0$\n",
    "\n",
    "$(2) (V_X-V_i) . \\frac{1}{R} + (V_X-V_B) . \\frac{1}{K.R} = 0$\n",
    "\n",
    "Considerando las características del OPAMP ideal, como no hay diferencia de potencial entre sus entradas, entonces podemos considerar que $V_X = 0V$.\n",
    "\n",
    "Partiendo de (1):\n",
    "\n",
    "$\\frac{V_i}{R_A} - \\frac{V_A}{R_A} + V_i . \\frac{2}{R} = 0$\n",
    "\n",
    "$V_A = R_A . (\\frac{V_i}{R_A} + V_i . \\frac{2}{R})$\n",
    "\n",
    "$V_A = V_i . (1 + \\frac{2.R_A}{R})$\n",
    "\n",
    "Recordando que:\n",
    "\n",
    "$R_A = R . \\frac{k-1}{2}$\n",
    "\n",
    "Reemplazamos:\n",
    "\n",
    "$V_A = V_i . (1 + \\frac{2.R.(k-1)}{2.R})$\n",
    "\n",
    "$V_A = V_i . (1+(k-1))$\n",
    "\n",
    "$(3) V_A = k . V_i$\n",
    "\n",
    "Partiendo de (2):\n",
    "\n",
    "$-\\frac{V_i}{R}-\\frac{V_B}{k.R}=0$\n",
    "\n",
    "$\\frac{V_B}{k.R}=-\\frac{V_i}{R}$\n",
    "\n",
    "$(4) V_B = - k . V_i$\n",
    "\n",
    "Si restamos (4) a (3):\n",
    "\n",
    "$V_{AB}=V_A-V_B=k . V_i - (- k . V_i)$\n",
    "\n",
    "$V_{AB}=2 . k . V_i$"
   ]
  }
 ],
 "metadata": {
  "language_info": {
   "name": "python"
  },
  "orig_nbformat": 4
 },
 "nbformat": 4,
 "nbformat_minor": 2
}
